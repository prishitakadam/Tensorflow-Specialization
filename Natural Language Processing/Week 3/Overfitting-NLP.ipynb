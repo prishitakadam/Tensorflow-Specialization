{
  "nbformat": 4,
  "nbformat_minor": 0,
  "metadata": {
    "accelerator": "GPU",
    "colab": {
      "name": "NLP Course - Week 3 Exercise Answer.ipynb",
      "provenance": [],
      "toc_visible": true
    },
    "kernelspec": {
      "display_name": "Python 3",
      "name": "python3"
    }
  },
  "cells": [
    {
      "cell_type": "code",
      "metadata": {
        "id": "zX4Kg8DUTKWO",
        "colab_type": "code",
        "colab": {}
      },
      "source": [
        "#@title Licensed under the Apache License, Version 2.0 (the \"License\");\n",
        "# you may not use this file except in compliance with the License.\n",
        "# You may obtain a copy of the License at\n",
        "#\n",
        "# https://www.apache.org/licenses/LICENSE-2.0\n",
        "#\n",
        "# Unless required by applicable law or agreed to in writing, software\n",
        "# distributed under the License is distributed on an \"AS IS\" BASIS,\n",
        "# WITHOUT WARRANTIES OR CONDITIONS OF ANY KIND, either express or implied.\n",
        "# See the License for the specific language governing permissions and\n",
        "# limitations under the License."
      ],
      "execution_count": 0,
      "outputs": []
    },
    {
      "cell_type": "code",
      "metadata": {
        "colab_type": "code",
        "id": "hmA6EzkQJ5jt",
        "colab": {}
      },
      "source": [
        "import json\n",
        "import tensorflow as tf\n",
        "import csv\n",
        "import random\n",
        "import numpy as np\n",
        "\n",
        "from tensorflow.keras.preprocessing.text import Tokenizer\n",
        "from tensorflow.keras.preprocessing.sequence import pad_sequences\n",
        "from tensorflow.keras.utils import to_categorical\n",
        "from tensorflow.keras import regularizers\n",
        "\n",
        "\n",
        "embedding_dim = 100\n",
        "max_length = 16\n",
        "trunc_type='post'\n",
        "padding_type='post'\n",
        "oov_tok = \"<OOV>\"\n",
        "training_size=160000\n",
        "test_portion=.1\n",
        "\n",
        "corpus = []\n"
      ],
      "execution_count": 0,
      "outputs": []
    },
    {
      "cell_type": "code",
      "metadata": {
        "colab_type": "code",
        "id": "bM0l_dORKqE0",
        "outputId": "9b514337-58fa-41cd-ac9c-b047ca38bda9",
        "colab": {
          "base_uri": "https://localhost:8080/",
          "height": 202
        }
      },
      "source": [
        "# Note that I cleaned the Stanford dataset to remove LATIN1 encoding to make it easier for Python CSV reader\n",
        "# You can do that yourself with:\n",
        "# iconv -f LATIN1 -t UTF8 training.1600000.processed.noemoticon.csv -o training_cleaned.csv\n",
        "# I then hosted it on my site to make it easier to use in this notebook\n",
        "\n",
        "!wget --no-check-certificate \\\n",
        "    https://storage.googleapis.com/laurencemoroney-blog.appspot.com/training_cleaned.csv \\\n",
        "    -O /tmp/training_cleaned.csv\n",
        "\n",
        "num_sentences = 0\n",
        "\n",
        "with open(\"/tmp/training_cleaned.csv\") as csvfile:\n",
        "    reader = csv.reader(csvfile, delimiter=',')\n",
        "    for row in reader:\n",
        "        list_item=[]\n",
        "        list_item.append(row[5])\n",
        "        this_label=row[0]\n",
        "        if this_label=='0':\n",
        "            list_item.append(0)\n",
        "        else:\n",
        "            list_item.append(1)\n",
        "        num_sentences = num_sentences + 1\n",
        "        corpus.append(list_item)\n"
      ],
      "execution_count": 3,
      "outputs": [
        {
          "output_type": "stream",
          "text": [
            "--2020-05-20 16:16:21--  https://storage.googleapis.com/laurencemoroney-blog.appspot.com/training_cleaned.csv\n",
            "Resolving storage.googleapis.com (storage.googleapis.com)... 108.177.119.128, 2a00:1450:4013:c00::80\n",
            "Connecting to storage.googleapis.com (storage.googleapis.com)|108.177.119.128|:443... connected.\n",
            "HTTP request sent, awaiting response... 200 OK\n",
            "Length: 238942690 (228M) [application/octet-stream]\n",
            "Saving to: ‘/tmp/training_cleaned.csv’\n",
            "\n",
            "/tmp/training_clean 100%[===================>] 227.87M  84.1MB/s    in 2.7s    \n",
            "\n",
            "2020-05-20 16:16:24 (84.1 MB/s) - ‘/tmp/training_cleaned.csv’ saved [238942690/238942690]\n",
            "\n"
          ],
          "name": "stdout"
        }
      ]
    },
    {
      "cell_type": "code",
      "metadata": {
        "colab_type": "code",
        "id": "3kxblBUjEUX-",
        "outputId": "cacd16ab-8c15-497f-b36b-bb0dd22ff18a",
        "colab": {
          "base_uri": "https://localhost:8080/",
          "height": 67
        }
      },
      "source": [
        "print(num_sentences)\n",
        "print(len(corpus))\n",
        "print(corpus[1])\n",
        "\n",
        "# Expected Output:\n",
        "# 1600000\n",
        "# 1600000\n",
        "# [\"is upset that he can't update his Facebook by texting it... and might cry as a result  School today also. Blah!\", 0]"
      ],
      "execution_count": 4,
      "outputs": [
        {
          "output_type": "stream",
          "text": [
            "1600000\n",
            "1600000\n",
            "[\"is upset that he can't update his Facebook by texting it... and might cry as a result  School today also. Blah!\", 0]\n"
          ],
          "name": "stdout"
        }
      ]
    },
    {
      "cell_type": "code",
      "metadata": {
        "colab_type": "code",
        "id": "ohOGz24lsNAD",
        "colab": {}
      },
      "source": [
        "sentences=[]\n",
        "labels=[]\n",
        "random.shuffle(corpus)\n",
        "for x in range(training_size):\n",
        "    sentences.append(corpus[x][0])\n",
        "    labels.append(corpus[x][1])\n",
        "\n",
        "\n",
        "tokenizer = Tokenizer()\n",
        "tokenizer.fit_on_texts(sentences)\n",
        "\n",
        "word_index = tokenizer.word_index\n",
        "vocab_size=len(word_index)\n",
        "\n",
        "sequences = tokenizer.texts_to_sequences(sentences)\n",
        "padded = pad_sequences(sequences, maxlen=max_length, padding=padding_type, truncating=trunc_type)\n",
        "\n",
        "split = int(test_portion * training_size)\n",
        "\n",
        "test_sequences = padded[0:split]\n",
        "training_sequences = padded[split:training_size]\n",
        "test_labels = labels[0:split]\n",
        "training_labels = labels[split:training_size]\n",
        "\n",
        "test_sequences = np.array(test_sequences)\n",
        "training_sequences = np.array(training_sequences)\n",
        "test_labels = np.array(test_labels)\n",
        "training_labels = np.array(training_labels)"
      ],
      "execution_count": 0,
      "outputs": []
    },
    {
      "cell_type": "code",
      "metadata": {
        "colab_type": "code",
        "id": "gIrtRem1En3N",
        "outputId": "1af17536-19e9-46c4-9a5c-eb5a86a497e3",
        "colab": {
          "base_uri": "https://localhost:8080/",
          "height": 50
        }
      },
      "source": [
        "print(vocab_size)\n",
        "print(word_index['i'])\n",
        "# Expected Output\n",
        "# 138858\n",
        "# 1"
      ],
      "execution_count": 12,
      "outputs": [
        {
          "output_type": "stream",
          "text": [
            "138504\n",
            "1\n"
          ],
          "name": "stdout"
        }
      ]
    },
    {
      "cell_type": "code",
      "metadata": {
        "colab_type": "code",
        "id": "C1zdgJkusRh0",
        "outputId": "5a80fead-fd3d-42f9-f57b-8ed3c24e8cd3",
        "colab": {
          "base_uri": "https://localhost:8080/",
          "height": 202
        }
      },
      "source": [
        "# Note this is the 100 dimension version of GloVe from Stanford\n",
        "# I unzipped and hosted it on my site to make this notebook easier\n",
        "!wget --no-check-certificate \\\n",
        "    https://storage.googleapis.com/laurencemoroney-blog.appspot.com/glove.6B.100d.txt \\\n",
        "    -O /tmp/glove.6B.100d.txt\n",
        "embeddings_index = {};\n",
        "with open('/tmp/glove.6B.100d.txt') as f:\n",
        "    for line in f:\n",
        "        values = line.split();\n",
        "        word = values[0];\n",
        "        coefs = np.asarray(values[1:], dtype='float32');\n",
        "        embeddings_index[word] = coefs;\n",
        "\n",
        "embeddings_matrix = np.zeros((vocab_size+1, embedding_dim));\n",
        "for word, i in word_index.items():\n",
        "    embedding_vector = embeddings_index.get(word);\n",
        "    if embedding_vector is not None:\n",
        "        embeddings_matrix[i] = embedding_vector;"
      ],
      "execution_count": 13,
      "outputs": [
        {
          "output_type": "stream",
          "text": [
            "--2020-05-20 16:22:27--  https://storage.googleapis.com/laurencemoroney-blog.appspot.com/glove.6B.100d.txt\n",
            "Resolving storage.googleapis.com (storage.googleapis.com)... 173.194.79.128, 2a00:1450:4013:c00::80\n",
            "Connecting to storage.googleapis.com (storage.googleapis.com)|173.194.79.128|:443... connected.\n",
            "HTTP request sent, awaiting response... 200 OK\n",
            "Length: 347116733 (331M) [text/plain]\n",
            "Saving to: ‘/tmp/glove.6B.100d.txt’\n",
            "\n",
            "/tmp/glove.6B.100d. 100%[===================>] 331.04M   153MB/s    in 2.2s    \n",
            "\n",
            "2020-05-20 16:22:30 (153 MB/s) - ‘/tmp/glove.6B.100d.txt’ saved [347116733/347116733]\n",
            "\n"
          ],
          "name": "stdout"
        }
      ]
    },
    {
      "cell_type": "code",
      "metadata": {
        "colab_type": "code",
        "id": "71NLk_lpFLNt",
        "outputId": "02594180-cb26-4903-a53c-93616fdf3871",
        "colab": {
          "base_uri": "https://localhost:8080/",
          "height": 34
        }
      },
      "source": [
        "print(len(embeddings_matrix))\n",
        "# Expected Output\n",
        "# 138859"
      ],
      "execution_count": 14,
      "outputs": [
        {
          "output_type": "stream",
          "text": [
            "138505\n"
          ],
          "name": "stdout"
        }
      ]
    },
    {
      "cell_type": "code",
      "metadata": {
        "colab_type": "code",
        "id": "iKKvbuEBOGFz",
        "colab": {
          "base_uri": "https://localhost:8080/",
          "height": 1000
        },
        "outputId": "56280e05-1c76-42f0-f7a7-14742c4806ed"
      },
      "source": [
        "model = tf.keras.Sequential([\n",
        "    tf.keras.layers.Embedding(vocab_size+1, embedding_dim, input_length=max_length, weights=[embeddings_matrix], trainable=False),\n",
        "    tf.keras.layers.Dropout(0.2),\n",
        "    tf.keras.layers.Conv1D(64, 5, activation='relu'),\n",
        "    tf.keras.layers.MaxPooling1D(pool_size=4),\n",
        "    tf.keras.layers.LSTM(64),\n",
        "    tf.keras.layers.Dense(1, activation='sigmoid')\n",
        "])\n",
        "model.compile(loss='binary_crossentropy',optimizer='adam',metrics=['accuracy'])\n",
        "model.summary()\n",
        "\n",
        "num_epochs = 50\n",
        "history = model.fit(training_sequences, training_labels, epochs=num_epochs, validation_data=(test_sequences, test_labels), verbose=2)\n",
        "\n",
        "print(\"Training Complete\")\n"
      ],
      "execution_count": 15,
      "outputs": [
        {
          "output_type": "stream",
          "text": [
            "Model: \"sequential_1\"\n",
            "_________________________________________________________________\n",
            "Layer (type)                 Output Shape              Param #   \n",
            "=================================================================\n",
            "embedding_1 (Embedding)      (None, 16, 100)           13850500  \n",
            "_________________________________________________________________\n",
            "dropout_1 (Dropout)          (None, 16, 100)           0         \n",
            "_________________________________________________________________\n",
            "conv1d_1 (Conv1D)            (None, 12, 64)            32064     \n",
            "_________________________________________________________________\n",
            "max_pooling1d_1 (MaxPooling1 (None, 3, 64)             0         \n",
            "_________________________________________________________________\n",
            "lstm_1 (LSTM)                (None, 64)                33024     \n",
            "_________________________________________________________________\n",
            "dense_1 (Dense)              (None, 1)                 65        \n",
            "=================================================================\n",
            "Total params: 13,915,653\n",
            "Trainable params: 65,153\n",
            "Non-trainable params: 13,850,500\n",
            "_________________________________________________________________\n",
            "Epoch 1/50\n",
            "4500/4500 - 15s - loss: 0.5671 - accuracy: 0.6992 - val_loss: 0.5353 - val_accuracy: 0.7209\n",
            "Epoch 2/50\n",
            "4500/4500 - 15s - loss: 0.5276 - accuracy: 0.7319 - val_loss: 0.5152 - val_accuracy: 0.7404\n",
            "Epoch 3/50\n",
            "4500/4500 - 15s - loss: 0.5112 - accuracy: 0.7434 - val_loss: 0.5090 - val_accuracy: 0.7436\n",
            "Epoch 4/50\n",
            "4500/4500 - 15s - loss: 0.5008 - accuracy: 0.7502 - val_loss: 0.5015 - val_accuracy: 0.7531\n",
            "Epoch 5/50\n",
            "4500/4500 - 15s - loss: 0.4928 - accuracy: 0.7556 - val_loss: 0.5036 - val_accuracy: 0.7505\n",
            "Epoch 6/50\n",
            "4500/4500 - 15s - loss: 0.4839 - accuracy: 0.7620 - val_loss: 0.5007 - val_accuracy: 0.7566\n",
            "Epoch 7/50\n",
            "4500/4500 - 15s - loss: 0.4784 - accuracy: 0.7652 - val_loss: 0.5041 - val_accuracy: 0.7514\n",
            "Epoch 8/50\n",
            "4500/4500 - 15s - loss: 0.4741 - accuracy: 0.7686 - val_loss: 0.5040 - val_accuracy: 0.7533\n",
            "Epoch 9/50\n",
            "4500/4500 - 15s - loss: 0.4696 - accuracy: 0.7715 - val_loss: 0.5088 - val_accuracy: 0.7496\n",
            "Epoch 10/50\n",
            "4500/4500 - 15s - loss: 0.4661 - accuracy: 0.7726 - val_loss: 0.5029 - val_accuracy: 0.7544\n",
            "Epoch 11/50\n",
            "4500/4500 - 15s - loss: 0.4622 - accuracy: 0.7743 - val_loss: 0.5020 - val_accuracy: 0.7528\n",
            "Epoch 12/50\n",
            "4500/4500 - 15s - loss: 0.4595 - accuracy: 0.7775 - val_loss: 0.5075 - val_accuracy: 0.7510\n",
            "Epoch 13/50\n",
            "4500/4500 - 15s - loss: 0.4573 - accuracy: 0.7781 - val_loss: 0.5031 - val_accuracy: 0.7543\n",
            "Epoch 14/50\n",
            "4500/4500 - 15s - loss: 0.4539 - accuracy: 0.7798 - val_loss: 0.5093 - val_accuracy: 0.7496\n",
            "Epoch 15/50\n",
            "4500/4500 - 15s - loss: 0.4514 - accuracy: 0.7818 - val_loss: 0.5202 - val_accuracy: 0.7423\n",
            "Epoch 16/50\n",
            "4500/4500 - 15s - loss: 0.4495 - accuracy: 0.7835 - val_loss: 0.5154 - val_accuracy: 0.7445\n",
            "Epoch 17/50\n",
            "4500/4500 - 16s - loss: 0.4484 - accuracy: 0.7844 - val_loss: 0.5103 - val_accuracy: 0.7532\n",
            "Epoch 18/50\n",
            "4500/4500 - 15s - loss: 0.4477 - accuracy: 0.7842 - val_loss: 0.5137 - val_accuracy: 0.7521\n",
            "Epoch 19/50\n",
            "4500/4500 - 15s - loss: 0.4450 - accuracy: 0.7842 - val_loss: 0.5135 - val_accuracy: 0.7485\n",
            "Epoch 20/50\n",
            "4500/4500 - 15s - loss: 0.4434 - accuracy: 0.7876 - val_loss: 0.5196 - val_accuracy: 0.7419\n",
            "Epoch 21/50\n",
            "4500/4500 - 15s - loss: 0.4419 - accuracy: 0.7879 - val_loss: 0.5102 - val_accuracy: 0.7465\n",
            "Epoch 22/50\n",
            "4500/4500 - 15s - loss: 0.4427 - accuracy: 0.7879 - val_loss: 0.5164 - val_accuracy: 0.7493\n",
            "Epoch 23/50\n",
            "4500/4500 - 15s - loss: 0.4407 - accuracy: 0.7882 - val_loss: 0.5120 - val_accuracy: 0.7496\n",
            "Epoch 24/50\n",
            "4500/4500 - 15s - loss: 0.4400 - accuracy: 0.7887 - val_loss: 0.5173 - val_accuracy: 0.7491\n",
            "Epoch 25/50\n",
            "4500/4500 - 15s - loss: 0.4373 - accuracy: 0.7906 - val_loss: 0.5126 - val_accuracy: 0.7498\n",
            "Epoch 26/50\n",
            "4500/4500 - 15s - loss: 0.4376 - accuracy: 0.7906 - val_loss: 0.5152 - val_accuracy: 0.7509\n",
            "Epoch 27/50\n",
            "4500/4500 - 15s - loss: 0.4380 - accuracy: 0.7898 - val_loss: 0.5187 - val_accuracy: 0.7454\n",
            "Epoch 28/50\n",
            "4500/4500 - 15s - loss: 0.4380 - accuracy: 0.7915 - val_loss: 0.5180 - val_accuracy: 0.7466\n",
            "Epoch 29/50\n",
            "4500/4500 - 14s - loss: 0.4358 - accuracy: 0.7913 - val_loss: 0.5224 - val_accuracy: 0.7431\n",
            "Epoch 30/50\n",
            "4500/4500 - 15s - loss: 0.4363 - accuracy: 0.7916 - val_loss: 0.5276 - val_accuracy: 0.7472\n",
            "Epoch 31/50\n",
            "4500/4500 - 14s - loss: 0.4346 - accuracy: 0.7917 - val_loss: 0.5165 - val_accuracy: 0.7471\n",
            "Epoch 32/50\n",
            "4500/4500 - 15s - loss: 0.4347 - accuracy: 0.7922 - val_loss: 0.5218 - val_accuracy: 0.7458\n",
            "Epoch 33/50\n",
            "4500/4500 - 15s - loss: 0.4336 - accuracy: 0.7923 - val_loss: 0.5227 - val_accuracy: 0.7456\n",
            "Epoch 34/50\n",
            "4500/4500 - 14s - loss: 0.4335 - accuracy: 0.7927 - val_loss: 0.5197 - val_accuracy: 0.7430\n",
            "Epoch 35/50\n",
            "4500/4500 - 14s - loss: 0.4324 - accuracy: 0.7940 - val_loss: 0.5210 - val_accuracy: 0.7425\n",
            "Epoch 36/50\n",
            "4500/4500 - 15s - loss: 0.4310 - accuracy: 0.7936 - val_loss: 0.5261 - val_accuracy: 0.7411\n",
            "Epoch 37/50\n",
            "4500/4500 - 14s - loss: 0.4330 - accuracy: 0.7934 - val_loss: 0.5233 - val_accuracy: 0.7451\n",
            "Epoch 38/50\n",
            "4500/4500 - 15s - loss: 0.4330 - accuracy: 0.7932 - val_loss: 0.5220 - val_accuracy: 0.7415\n",
            "Epoch 39/50\n",
            "4500/4500 - 14s - loss: 0.4308 - accuracy: 0.7945 - val_loss: 0.5190 - val_accuracy: 0.7466\n",
            "Epoch 40/50\n",
            "4500/4500 - 14s - loss: 0.4306 - accuracy: 0.7952 - val_loss: 0.5237 - val_accuracy: 0.7442\n",
            "Epoch 41/50\n",
            "4500/4500 - 14s - loss: 0.4307 - accuracy: 0.7940 - val_loss: 0.5244 - val_accuracy: 0.7437\n",
            "Epoch 42/50\n",
            "4500/4500 - 14s - loss: 0.4291 - accuracy: 0.7960 - val_loss: 0.5261 - val_accuracy: 0.7441\n",
            "Epoch 43/50\n",
            "4500/4500 - 15s - loss: 0.4291 - accuracy: 0.7956 - val_loss: 0.5281 - val_accuracy: 0.7454\n",
            "Epoch 44/50\n",
            "4500/4500 - 14s - loss: 0.4300 - accuracy: 0.7942 - val_loss: 0.5218 - val_accuracy: 0.7430\n",
            "Epoch 45/50\n",
            "4500/4500 - 14s - loss: 0.4295 - accuracy: 0.7948 - val_loss: 0.5277 - val_accuracy: 0.7427\n",
            "Epoch 46/50\n",
            "4500/4500 - 14s - loss: 0.4304 - accuracy: 0.7946 - val_loss: 0.5334 - val_accuracy: 0.7401\n",
            "Epoch 47/50\n",
            "4500/4500 - 14s - loss: 0.4297 - accuracy: 0.7955 - val_loss: 0.5246 - val_accuracy: 0.7404\n",
            "Epoch 48/50\n",
            "4500/4500 - 14s - loss: 0.4287 - accuracy: 0.7963 - val_loss: 0.5239 - val_accuracy: 0.7441\n",
            "Epoch 49/50\n",
            "4500/4500 - 15s - loss: 0.4283 - accuracy: 0.7961 - val_loss: 0.5268 - val_accuracy: 0.7414\n",
            "Epoch 50/50\n",
            "4500/4500 - 14s - loss: 0.4289 - accuracy: 0.7951 - val_loss: 0.5264 - val_accuracy: 0.7442\n",
            "Training Complete\n"
          ],
          "name": "stdout"
        }
      ]
    },
    {
      "cell_type": "code",
      "metadata": {
        "colab_type": "code",
        "id": "qxju4ItJKO8F",
        "colab": {
          "base_uri": "https://localhost:8080/",
          "height": 606
        },
        "outputId": "226221a9-c842-4b21-a564-e12892f6fc54"
      },
      "source": [
        "import matplotlib.image  as mpimg\n",
        "import matplotlib.pyplot as plt\n",
        "\n",
        "#-----------------------------------------------------------\n",
        "# Retrieve a list of list results on training and test data\n",
        "# sets for each training epoch\n",
        "#-----------------------------------------------------------\n",
        "acc=history.history['accuracy']\n",
        "val_acc=history.history['val_accuracy']\n",
        "loss=history.history['loss']\n",
        "val_loss=history.history['val_loss']\n",
        "\n",
        "epochs=range(len(acc)) # Get number of epochs\n",
        "\n",
        "#------------------------------------------------\n",
        "# Plot training and validation accuracy per epoch\n",
        "#------------------------------------------------\n",
        "plt.plot(epochs, acc, 'r')\n",
        "plt.plot(epochs, val_acc, 'b')\n",
        "plt.title('Training and validation accuracy')\n",
        "plt.xlabel(\"Epochs\")\n",
        "plt.ylabel(\"Accuracy\")\n",
        "plt.legend([\"Accuracy\", \"Validation Accuracy\"])\n",
        "\n",
        "plt.figure()\n",
        "\n",
        "#------------------------------------------------\n",
        "# Plot training and validation loss per epoch\n",
        "#------------------------------------------------\n",
        "plt.plot(epochs, loss, 'r')\n",
        "plt.plot(epochs, val_loss, 'b')\n",
        "plt.title('Training and validation loss')\n",
        "plt.xlabel(\"Epochs\")\n",
        "plt.ylabel(\"Loss\")\n",
        "plt.legend([\"Loss\", \"Validation Loss\"])\n",
        "\n",
        "plt.figure()\n",
        "\n",
        "\n",
        "# Expected Output\n",
        "# A chart where the validation loss does not increase sharply!"
      ],
      "execution_count": 16,
      "outputs": [
        {
          "output_type": "execute_result",
          "data": {
            "text/plain": [
              "<Figure size 432x288 with 0 Axes>"
            ]
          },
          "metadata": {
            "tags": []
          },
          "execution_count": 16
        },
        {
          "output_type": "display_data",
          "data": {
            "image/png": "[encoded data removed]",
            "text/plain": [
              "<Figure size 432x288 with 1 Axes>"
            ]
          },
          "metadata": {
            "tags": [],
            "needs_background": "light"
          }
        },
        {
          "output_type": "display_data",
          "data": {
            "image/png": "[encoded data removed]",
            "text/plain": [
              "<Figure size 432x288 with 1 Axes>"
            ]
          },
          "metadata": {
            "tags": [],
            "needs_background": "light"
          }
        },
        {
          "output_type": "display_data",
          "data": {
            "text/plain": [
              "<Figure size 432x288 with 0 Axes>"
            ]
          },
          "metadata": {
            "tags": []
          }
        }
      ]
    }
  ]
}